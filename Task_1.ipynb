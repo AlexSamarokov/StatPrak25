{
  "nbformat": 4,
  "nbformat_minor": 0,
  "metadata": {
    "colab": {
      "provenance": [],
      "authorship_tag": "ABX9TyNg3pAu5evLcDKTcbfTonN9",
      "include_colab_link": true
    },
    "kernelspec": {
      "name": "python3",
      "display_name": "Python 3"
    },
    "language_info": {
      "name": "python"
    }
  },
  "cells": [
    {
      "cell_type": "markdown",
      "metadata": {
        "id": "view-in-github",
        "colab_type": "text"
      },
      "source": [
        "<a href=\"https://colab.research.google.com/github/AlexSamarokov/StatPrak25/blob/main/Task_1.ipynb\" target=\"_parent\"><img src=\"https://colab.research.google.com/assets/colab-badge.svg\" alt=\"Open In Colab\"/></a>"
      ]
    },
    {
      "cell_type": "markdown",
      "metadata": {
        "id": "xw8BD8v2oBGj"
      },
      "source": [
        "# Homework"
      ]
    },
    {
      "cell_type": "markdown",
      "metadata": {
        "id": "sSos7q2_oBGj"
      },
      "source": [
        "## Problem 1"
      ]
    },
    {
      "cell_type": "markdown",
      "metadata": {
        "id": "NiX8ePp0oBGk"
      },
      "source": [
        "Make a tuple containing natural numbers, the square of which is a multiple of 3, 4, but not a multiple of 8 and not exceeding 12345."
      ]
    },
    {
      "cell_type": "code",
      "execution_count": 24,
      "metadata": {
        "id": "XmPHEnS9oBGk",
        "colab": {
          "base_uri": "https://localhost:8080/"
        },
        "outputId": "a81730c2-0c01-4fbd-a6b7-668904baf53f"
      },
      "outputs": [
        {
          "output_type": "stream",
          "name": "stdout",
          "text": [
            "(6, 18, 30, 42, 54, 66, 78, 90, 102)\n"
          ]
        }
      ],
      "source": [
        "numbers = []\n",
        "\n",
        "# Проходим по натуральным числам до предела\n",
        "for num in range(1, int(12345 ** 0.5) + 1):\n",
        "    square = num ** 2\n",
        "    # Проверяем, что квадрат кратен 3 и 4, но не кратен 8\n",
        "    if square % 3 == 0 and square % 4 == 0 and square % 8 != 0:\n",
        "        numbers.append(num)\n",
        "\n",
        "# Преобразуем список в кортеж\n",
        "result_tuple = tuple(numbers)\n",
        "\n",
        "print(result_tuple)"
      ]
    },
    {
      "cell_type": "markdown",
      "metadata": {
        "id": "OZBeUyxcoBGk"
      },
      "source": [
        "## Problem 2"
      ]
    },
    {
      "cell_type": "markdown",
      "metadata": {
        "id": "zIfvg22noBGk"
      },
      "source": [
        "\n",
        "Write a function that takes a two-dimensional array and a string as input and returns an array rotated 90 degrees counterclockwise if the string 'left' was passed, and clockwise if the string 'right' was passed.\n",
        "\n",
        "Example for input: $\\begin{bmatrix} 1 & 2 & 3 \\\\ 4 & 5 & 6 \\\\ 7 & 8 & 9 \\end{bmatrix}$.\\\n",
        "If the string 'left' is passed, the function should return $\\begin{bmatrix} 3 & 6 & 9 \\\\ 2 & 5 & 8 \\\\ 1 & 4 & 7 \\end{bmatrix}$, and if the string 'right' is passed, the function should return $\\begin{bmatrix} 7 & 4 & 1 \\\\ 8 & 5 & 2 \\\\ 9 & 6 & 3 \\end{bmatrix}$."
      ]
    },
    {
      "cell_type": "code",
      "execution_count": 18,
      "metadata": {
        "id": "HNvy_cRjoBGk",
        "colab": {
          "base_uri": "https://localhost:8080/"
        },
        "outputId": "0d7c6306-018c-4213-92a5-7ba8f0f84281"
      },
      "outputs": [
        {
          "output_type": "stream",
          "name": "stdout",
          "text": [
            "Введите направление поворота ('left' или 'right'): left\n",
            "\n",
            "Результат поворота:\n",
            "[7, 8, 9]\n",
            "[4, 5, 6]\n",
            "[1, 2, 3]\n"
          ]
        }
      ],
      "source": [
        "matrix = [\n",
        "    [1, 4, 7],\n",
        "    [2, 5, 8],\n",
        "    [3, 6, 9]\n",
        "]\n",
        "\n",
        "rows = len(matrix)\n",
        "cols = len(matrix[0])\n",
        "\n",
        "direction = input(\"Введите направление поворота ('left' или 'right'): \")\n",
        "# Создаем пустую матрицу для результата\n",
        "rotated_matrix = []\n",
        "for i in range(cols):\n",
        "  rotated_matrix.append([0] * rows)\n",
        "\n",
        "# Поворот матрицы\n",
        "if direction == 'right':\n",
        "    # Поворот на 90 градусов по часовой стрелке\n",
        "    for i in range(rows):\n",
        "        for j in range(cols):\n",
        "            rotated_matrix[j][rows - i - 1] = matrix[i][j]\n",
        "else:\n",
        "    # Поворот на 90 градусов против часовой стрелки\n",
        "    for i in range(rows):\n",
        "        for j in range(cols):\n",
        "            rotated_matrix[cols - j - 1][i] = matrix[i][j]\n",
        "\n",
        "print(\"\\nРезультат поворота:\")\n",
        "for row in rotated_matrix:\n",
        "    print(row)"
      ]
    },
    {
      "cell_type": "markdown",
      "metadata": {
        "id": "_dY-PFlCoBGk"
      },
      "source": [
        "## Problem 3"
      ]
    },
    {
      "cell_type": "markdown",
      "metadata": {
        "id": "3CaIwcm0oBGk"
      },
      "source": [
        "Write a function that takes a string as input and returns a dictionary containing the number of occurrences of each character in the string.\n",
        "\n",
        "Example for the string 'hello, world!': {'h': 1, 'e': 1, 'l': 3, 'o': 2, ',': 1, ' ': 1, 'w': 1, 'r': 1, 'd': 1, '!': 1}."
      ]
    },
    {
      "cell_type": "code",
      "execution_count": 7,
      "metadata": {
        "id": "rlSbHusZoBGk",
        "colab": {
          "base_uri": "https://localhost:8080/"
        },
        "outputId": "afd74336-ace8-4dd8-ca21-6540492e6a1d"
      },
      "outputs": [
        {
          "output_type": "stream",
          "name": "stdout",
          "text": [
            "Введите строку: abobus 777 ! ./ /\n",
            "Результат подсчета символов:\n",
            "{'a': 1, 'b': 2, 'o': 1, 'u': 1, 's': 1, ' ': 4, '7': 3, '!': 1, '.': 1, '/': 2}\n"
          ]
        }
      ],
      "source": [
        "# Функция для подсчета символов в строке\n",
        "def count_characters(input_string):\n",
        "\n",
        "    char_count = {}\n",
        "\n",
        "    # Проходим по каждому символу в строке\n",
        "    for char in input_string:\n",
        "        # Если символ уже есть в словаре, увеличиваем его счетчик на 1\n",
        "        if char in char_count:\n",
        "            char_count[char] += 1\n",
        "        # Если символа нет в словаре, добавляем его со значением 1\n",
        "        else:\n",
        "            char_count[char] = 1\n",
        "\n",
        "    return char_count\n",
        "\n",
        "user_input = input(\"Введите строку: \")\n",
        "\n",
        "# Вызов функции и вывод результата\n",
        "result = count_characters(user_input)\n",
        "print(\"Результат подсчета символов:\")\n",
        "print(result)"
      ]
    },
    {
      "cell_type": "markdown",
      "metadata": {
        "id": "KBGJ7PeboBGk"
      },
      "source": [
        "## Problem 4"
      ]
    },
    {
      "cell_type": "markdown",
      "metadata": {
        "id": "XS4Seqa9oBGk"
      },
      "source": [
        "### Implementing a Library Management System\n",
        "\n",
        "#### Description\n",
        "\n",
        "You are required to design and implement a system for managing books and users in a library. The system should allow for the management of books (adding, deleting, searching by various criteria) and users (registration, deletion, searching), as well as tracking the history of interactions between them (issuing and returning books).\n",
        "\n",
        "#### Tasks\n",
        "\n",
        "1. **`Book` Class**:\n",
        "   - Attributes: title, author, year of publication, ISBN, number of copies.\n",
        "   - Methods: constructor, methods to get information about the book, method to change the number of copies (when issuing and returning books).\n",
        "\n",
        "2. **`User` Class**:\n",
        "   - Attributes: user name, library card number, list of borrowed books.\n",
        "   - Methods: constructor, methods for user registration, methods for adding and removing books from the borrowed list.\n",
        "\n",
        "3. **`Library` Class**:\n",
        "   - Attributes: list of books, list of users, transaction history (who, when, which book was borrowed and returned).\n",
        "   - Methods: constructor, methods for adding and deleting books and users, methods for issuing and returning books, searching for books and users by various criteria, method to display the transaction history.\n",
        "\n",
        "#### Assignment\n",
        "\n",
        "1. Implement the `Book`, `User`, and `Library` classes with the specified attributes and methods.\n",
        "2. Create several books and users, and add them to the library system.\n",
        "3. Implement scenarios for issuing books to users and their return.\n",
        "4. Display the transaction history to show how books were issued and returned.\n"
      ]
    },
    {
      "cell_type": "code",
      "execution_count": 6,
      "metadata": {
        "id": "IbqwtWWsoBGl",
        "colab": {
          "base_uri": "https://localhost:8080/"
        },
        "outputId": "69b4b949-88a0-475e-a63c-5851a4a0dbb1"
      },
      "outputs": [
        {
          "output_type": "stream",
          "name": "stdout",
          "text": [
            "Книги в библиотеке:\n",
            "Название: Война и мир, Автор: Лев Толстой, Год: 1869, ISBN: 123456789, Копий: 3\n",
            "Название: 1984, Автор: Джордж Оруэлл, Год: 1949, ISBN: 987654321, Копий: 2\n",
            "Иван Иванов взял книги: ['Война и мир']\n",
            "Мария Петрова взял книги: ['1984']\n",
            "История операций:\n",
            "Иван Иванов взял книгу 'Война и мир'\n",
            "Мария Петрова взял книгу '1984'\n",
            "Иван Иванов вернул книгу 'Война и мир'\n",
            "Мария Петрова вернул книгу '1984'\n"
          ]
        }
      ],
      "source": [
        "# Класс для представления книги\n",
        "class Book:\n",
        "    def __init__(self, title, author, year, isbn, copies):\n",
        "        self.title = title\n",
        "        self.author = author\n",
        "        self.year = year\n",
        "        self.isbn = isbn\n",
        "        self.copies = copies\n",
        "\n",
        "    def get_info(self):\n",
        "        return f\"Название: {self.title}, Автор: {self.author}, Год: {self.year}, ISBN: {self.isbn}, Копий: {self.copies}\"\n",
        "\n",
        "    def change_copies(self, delta):\n",
        "        self.copies += delta\n",
        "\n",
        "# Класс для представления пользователя\n",
        "class User:\n",
        "    def __init__(self, name, card_number):\n",
        "        self.name = name\n",
        "        self.card_number = card_number\n",
        "        self.borrowed_books = []\n",
        "\n",
        "    def register(self):\n",
        "        return f\"Пользователь {self.name} зарегистрирован. Номер карты: {self.card_number}\"\n",
        "\n",
        "    def add_book(self, book):\n",
        "        self.borrowed_books.append(book)\n",
        "\n",
        "    def remove_book(self, book):\n",
        "        self.borrowed_books.remove(book)\n",
        "\n",
        "    def get_borrowed_books(self):\n",
        "        return [book.title for book in self.borrowed_books]\n",
        "\n",
        "# Класс для представления библиотеки\n",
        "class Library:\n",
        "    def __init__(self):\n",
        "        self.books = []\n",
        "        self.users = []\n",
        "        self.transaction_history = []\n",
        "\n",
        "    def add_book(self, book):\n",
        "        self.books.append(book)\n",
        "\n",
        "    def delete_book(self, book):\n",
        "        self.books.remove(book)\n",
        "\n",
        "    def add_user(self, user):\n",
        "        self.users.append(user)\n",
        "\n",
        "    def delete_user(self, user):\n",
        "        self.users.remove(user)\n",
        "\n",
        "    def issue_book(self, user, book):\n",
        "        if book.copies > 0:\n",
        "            user.add_book(book)\n",
        "            book.change_copies(-1)\n",
        "            self.transaction_history.append(f\"{user.name} взял книгу '{book.title}'\")\n",
        "        else:\n",
        "            print(\"Нет доступных копий этой книги.\")\n",
        "\n",
        "    def return_book(self, user, book):\n",
        "        if book in user.borrowed_books:\n",
        "            user.remove_book(book)\n",
        "            book.change_copies(1)\n",
        "            self.transaction_history.append(f\"{user.name} вернул книгу '{book.title}'\")\n",
        "        else:\n",
        "            print(\"Эта книга не была взята этим пользователем.\")\n",
        "\n",
        "    def search_book_by_title(self, title):\n",
        "        return [book for book in self.books if book.title == title]\n",
        "\n",
        "    def search_book_by_author(self, author):\n",
        "        return [book for book in self.books if book.author == author]\n",
        "\n",
        "    def search_user_by_name(self, name):\n",
        "        return [user for user in self.users if user.name == name]\n",
        "\n",
        "    def display_transaction_history(self):\n",
        "        print(\"История операций:\")\n",
        "        for record in self.transaction_history:\n",
        "            print(record)\n",
        "\n",
        "# Создаем библиотеку\n",
        "library = Library()\n",
        "\n",
        "# Создаем книги\n",
        "book1 = Book(\"Война и мир\", \"Лев Толстой\", 1869, \"123456789\", 3)\n",
        "book2 = Book(\"1984\", \"Джордж Оруэлл\", 1949, \"987654321\", 2)\n",
        "\n",
        "# Добавляем книги в библиотеку\n",
        "library.add_book(book1)\n",
        "library.add_book(book2)\n",
        "\n",
        "# Создаем пользователей\n",
        "user1 = User(\"Иван Иванов\", \"1\")\n",
        "user2 = User(\"Мария Петрова\", \"2\")\n",
        "\n",
        "# Регистрируем пользователей\n",
        "library.add_user(user1)\n",
        "library.add_user(user2)\n",
        "\n",
        "# Выводим информацию о книгах\n",
        "print(\"Книги в библиотеке:\")\n",
        "for book in library.books:\n",
        "    print(book.get_info())\n",
        "\n",
        "# Выдаем книги пользователям\n",
        "library.issue_book(user1, book1)\n",
        "library.issue_book(user2, book2)\n",
        "\n",
        "# Выводим список взятых книг\n",
        "print(f\"{user1.name} взял книги: {user1.get_borrowed_books()}\")\n",
        "print(f\"{user2.name} взял книги: {user2.get_borrowed_books()}\")\n",
        "\n",
        "# Возвращаем книги\n",
        "library.return_book(user1, book1)\n",
        "library.return_book(user2, book2)\n",
        "\n",
        "# Выводим историю операций\n",
        "library.display_transaction_history()"
      ]
    },
    {
      "cell_type": "markdown",
      "metadata": {
        "id": "0c8zRbSIoBGl"
      },
      "source": [
        "## Problem 5*"
      ]
    },
    {
      "cell_type": "markdown",
      "metadata": {
        "id": "8ltdzRmOoBGl"
      },
      "source": [
        "Explain why list `b` changes after the execution of the following code:\n",
        "\n",
        "```python\n",
        "a = [1, 2, 3]\n",
        "b = a\n",
        "a[0] = 4\n",
        "print(b)\n",
        "```"
      ]
    },
    {
      "cell_type": "markdown",
      "metadata": {
        "id": "RxgnUfFPoBGl"
      },
      "source": [
        "Когда мы выполняем присваивание b = a, мы не создаём новый список, а просто копируем ссылку на список a, поэтому при изменении a измениться и b\n",
        "---\n",
        "\n"
      ]
    },
    {
      "cell_type": "markdown",
      "metadata": {
        "id": "Mb-amOX5oBGl"
      },
      "source": []
    },
    {
      "cell_type": "markdown",
      "metadata": {
        "id": "TmXLkc_foBGl"
      },
      "source": [
        "## Problem 6*"
      ]
    },
    {
      "cell_type": "markdown",
      "metadata": {
        "id": "Gn0ibiVCoBGl"
      },
      "source": [
        "Let\n",
        "$$A = \\sum_{i=1}^{10000} \\frac{1}{i^2},\\quad B=\\sum_{i=10000}^{1} \\frac{1}{i^2}.$$\n",
        "Calculate the values of $A$ and $B$ and compare them. What do you observe? Explain why this happens. What is the best way to calculate the value of $\\sum\\limits_{i=1}^{10000} \\dfrac{1}{i^2}$?"
      ]
    },
    {
      "cell_type": "code",
      "execution_count": 4,
      "metadata": {
        "id": "3q93uGqFoBGl",
        "colab": {
          "base_uri": "https://localhost:8080/"
        },
        "outputId": "237d21b8-be52-4586-d3d7-9aee736879cf"
      },
      "outputs": [
        {
          "output_type": "stream",
          "name": "stdout",
          "text": [
            "A: 1.6448340718480652\n",
            "B: 1.6448340718480596\n",
            "A и B не равны\n",
            "A и B отличаются из-за ошибок округления при вычислениях чисел с плавающей точкой\n",
            "Лучше вычислять B\n"
          ]
        }
      ],
      "source": [
        "# Вычисление суммы A\n",
        "A = 0\n",
        "for i in range(1, 10001):\n",
        "    A += 1 / (i ** 2)\n",
        "\n",
        "# Вычисление суммы B\n",
        "B = 0\n",
        "for i in range(10000, 0, -1):\n",
        "    B += 1 / (i ** 2)\n",
        "\n",
        "print(f\"A: {A}\")\n",
        "print(f\"B: {B}\")\n",
        "\n",
        "# Сравнение значений A и B\n",
        "if A == B:\n",
        "    print(\"A и B равны\")\n",
        "else:\n",
        "    print(\"A и B не равны\")\n",
        "\n",
        "print(\"A и B отличаются из-за ошибок округления при вычислениях чисел с плавающей точкой\")\n",
        "print(\"Лучше вычислять B\")"
      ]
    }
  ]
}